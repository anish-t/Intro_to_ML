{
  "nbformat": 4,
  "nbformat_minor": 0,
  "metadata": {
    "colab": {
      "provenance": [],
      "authorship_tag": "ABX9TyNWaAdq/IJuVE0NO8v3kbR/",
      "include_colab_link": true
    },
    "kernelspec": {
      "name": "python3",
      "display_name": "Python 3"
    },
    "language_info": {
      "name": "python"
    }
  },
  "cells": [
    {
      "cell_type": "markdown",
      "metadata": {
        "id": "view-in-github",
        "colab_type": "text"
      },
      "source": [
        "<a href=\"https://colab.research.google.com/github/anish-t/Intro_to_ML/blob/main/002100_Radius_Nearest_Neighbors_Classifier_from_scratch_and_sklearn.ipynb\" target=\"_parent\"><img src=\"https://colab.research.google.com/assets/colab-badge.svg\" alt=\"Open In Colab\"/></a>"
      ]
    },
    {
      "cell_type": "markdown",
      "source": [
        "Radius Neighbors Classifier first stores the training examples. During prediction, when it encounters a new instance ( or test example) to predict, it finds the number of neighbors from training instances within a fixed radius of r center at test instance, where r is a floating-point value specified by the user.  Then assigns the most common class among the training instances within that radius to the test instance.\n"
      ],
      "metadata": {
        "id": "Q3D9blKUMlRB"
      }
    },
    {
      "cell_type": "markdown",
      "source": [],
      "metadata": {
        "id": "_qNiNP2DLKu2"
      }
    },
    {
      "cell_type": "code",
      "source": [
        "# Importing libraries\n",
        " \n",
        "import pandas as pd\n",
        "import numpy as np\n",
        "from sklearn.model_selection import train_test_split\n",
        "from sklearn.neighbors import RadiusNeighborsRegressor"
      ],
      "metadata": {
        "id": "F8OsNz-KLLBb"
      },
      "execution_count": 1,
      "outputs": []
    },
    {
      "cell_type": "code",
      "source": [
        "# Radius Nearest Neighbors Regression from scratch\n",
        " \n",
        "class Radius_Nearest_Neighbors_Regression() :\n",
        "     \n",
        "    def __init__( self, r ) :\n",
        "         \n",
        "        self.r = r\n",
        "         \n",
        "    # Function to store training set\n",
        "         \n",
        "    def fit( self, X_train, Y_train ) :\n",
        "         \n",
        "        self.X_train = X_train\n",
        "         \n",
        "        self.Y_train = Y_train\n",
        "         \n",
        "        # no_of_training_examples, no_of_features\n",
        "         \n",
        "        self.m, self.n = X_train.shape\n",
        "     \n",
        "    # Function for prediction\n",
        "         \n",
        "    def predict( self, X_test ) :\n",
        "         \n",
        "        self.X_test = X_test\n",
        "         \n",
        "        # no_of_test_examples, no_of_features\n",
        "         \n",
        "        self.m_test, self.n = X_test.shape\n",
        "         \n",
        "        # initialize Y_predict\n",
        "         \n",
        "        Y_predict = np.zeros( self.m_test )\n",
        "         \n",
        "        for i in range( self.m_test ) :\n",
        "             \n",
        "            x = self.X_test[i]\n",
        "             \n",
        "            # find the number of neighbors within a fixed\n",
        "            # radius r of current training example\n",
        "             \n",
        "            neighbors = self.find_neighbors( x )\n",
        "             \n",
        "            # mean of the neighbors in the circle drawn by\n",
        "            # current training example of fixed radius r\n",
        "             \n",
        "            Y_predict[i] = np.mean( neighbors )\n",
        "             \n",
        "        return Y_predict\n",
        "     \n",
        "    # Function to find the number of neighbors within a fixed\n",
        "    # radius r of current training example\n",
        "           \n",
        "    def find_neighbors( self, x ) :\n",
        "         \n",
        "        # list to store training examples which will fall in the circle\n",
        "         \n",
        "        inside = []\n",
        "         \n",
        "        for i in range( self.m ) :\n",
        "             \n",
        "            d = self.euclidean( x, self.X_train[i] )\n",
        "             \n",
        "            if d <= self.r :\n",
        "                 \n",
        "                inside.append( self.Y_train[i] )\n",
        " \n",
        "        inside_array = np.array( inside )\n",
        "                 \n",
        "        return inside_array\n",
        "     \n",
        "    # Function to calculate euclidean distance\n",
        "             \n",
        "    def euclidean( self, x, x_train ) :\n",
        "         \n",
        "        return np.sqrt( np.sum( np.square( x - x_train ) ) )\n",
        "       "
      ],
      "metadata": {
        "id": "fQ9IYimlLQkd"
      },
      "execution_count": 2,
      "outputs": []
    },
    {
      "cell_type": "code",
      "source": [
        " # Importing dataset\n",
        "\n",
        "!mkdir -p ~/.kaggle\n",
        "!cp kaggle.json ~/.kaggle/\n",
        "!chmod 600 ~/.kaggle/kaggle.json\n",
        "\n",
        "!kaggle datasets download -d varungitboi/employee-salary-dataset\n",
        "\n",
        "!unzip employee-salary-dataset.zip"
      ],
      "metadata": {
        "colab": {
          "base_uri": "https://localhost:8080/"
        },
        "id": "WLGnONwMLZQv",
        "outputId": "0509635f-27cc-4e1b-e2e5-fa3760917c0a"
      },
      "execution_count": 3,
      "outputs": [
        {
          "output_type": "stream",
          "name": "stdout",
          "text": [
            "Downloading employee-salary-dataset.zip to /content\n",
            "\r  0% 0.00/8.39k [00:00<?, ?B/s]\n",
            "\r100% 8.39k/8.39k [00:00<00:00, 7.65MB/s]\n",
            "Archive:  employee-salary-dataset.zip\n",
            "  inflating: employee_data.csv       \n"
          ]
        }
      ]
    },
    {
      "cell_type": "code",
      "source": [
        "\n",
        "df = pd.read_csv( \"employee_data.csv\" )\n",
        "\n",
        "X = df.iloc[:,3:6].values\n",
        "Y = df.iloc[:,-1].values\n",
        "\n",
        "# df"
      ],
      "metadata": {
        "id": "YvT23ZxCL8lN"
      },
      "execution_count": 8,
      "outputs": []
    },
    {
      "cell_type": "code",
      "source": [
        "# Splitting dataset into train and test set\n",
        "\n",
        "X_train, X_test, Y_train, Y_test = train_test_split( X, Y, test_size = 1/3, random_state = 0 )\n",
        "  \n",
        "# Model training\n",
        "  \n",
        "model = Radius_Nearest_Neighbors_Regression( r = 5 )\n",
        "  \n",
        "model.fit( X_train, Y_train )\n",
        "  \n",
        "model1 = RadiusNeighborsRegressor( radius = 5 )\n",
        "\n",
        "model1.fit( X_train, Y_train )\n"
      ],
      "metadata": {
        "colab": {
          "base_uri": "https://localhost:8080/"
        },
        "id": "0tra6FjhLgwv",
        "outputId": "5ab48cd6-6870-420b-a669-a82838157354"
      },
      "execution_count": 13,
      "outputs": [
        {
          "output_type": "execute_result",
          "data": {
            "text/plain": [
              "RadiusNeighborsRegressor(radius=5)"
            ]
          },
          "metadata": {},
          "execution_count": 13
        }
      ]
    },
    {
      "cell_type": "code",
      "source": [
        "# Prediction on test set\n",
        "  \n",
        "Y_pred = model.predict( X_test )\n",
        "\n",
        "Y_pred1 = model1.predict( X_test )\n",
        "  \n",
        "print( \"Real values                         : \", Y_test[:3] )\n",
        "  \n",
        "print( \"Predicted values by our model       : \", np.round( Y_pred[:3], 2 ) )\n",
        "  \n",
        "print( \"Predicted values by sklearn model   : \", np.round( Y_pred1[:3], 2 ) )"
      ],
      "metadata": {
        "colab": {
          "base_uri": "https://localhost:8080/"
        },
        "id": "5uWb-jN2N8CU",
        "outputId": "92f99126-245f-4d72-f7e0-93472ff2d761"
      },
      "execution_count": 12,
      "outputs": [
        {
          "output_type": "stream",
          "name": "stdout",
          "text": [
            "Real values                         :  [2297  662 2056]\n",
            "Predicted values by our model       :  [2177.27 1738.81 1272.44]\n",
            "Predicted values by sklearn model   :  [2177.27 1738.81 1272.44]\n"
          ]
        }
      ]
    },
    {
      "cell_type": "code",
      "source": [],
      "metadata": {
        "id": "w5T_GZ_nObHv"
      },
      "execution_count": null,
      "outputs": []
    }
  ]
}